{
 "cells": [
  {
   "cell_type": "markdown",
   "metadata": {},
   "source": [
    "Прокальцитонин (ПКТ) — показатель системного воспалительного процесса в организме и сепсиса. Бактериальная инфекция с осложнениями значительно увеличивает уровень прокальцитонина в крови."
   ]
  },
  {
   "cell_type": "markdown",
   "metadata": {},
   "source": [
    "Имеются данные о уровне прокальцитонина у пациентов с тремя нозологическими формами:"
   ]
  },
  {
   "cell_type": "markdown",
   "metadata": {},
   "source": [
    "### Двухсторонняя нижнедолевая внебольничная пневмония:"
   ]
  },
  {
   "cell_type": "markdown",
   "metadata": {},
   "source": [
    "2.2, 1.4, 2.1, 2.8, 3.1, 1.7, 1.8, 3.2 (нг/мл)"
   ]
  },
  {
   "cell_type": "markdown",
   "metadata": {},
   "source": [
    "### Перитонит"
   ]
  },
  {
   "cell_type": "markdown",
   "metadata": {},
   "source": [
    " 3.2, 3.1, 4.1, 4.5, 2.8, 1.7, 2.3 (нг/мл)"
   ]
  },
  {
   "cell_type": "markdown",
   "metadata": {},
   "source": [
    "### Сепсис"
   ]
  },
  {
   "cell_type": "markdown",
   "metadata": {},
   "source": [
    "6.2, 7.1, 14.2, 21.5, 2.1, 1.7, 22.4, 23.0 (нг/мл)"
   ]
  },
  {
   "cell_type": "markdown",
   "metadata": {},
   "source": [
    "Задача: определить, есть ли различия в уровне прокальцитонина в зависимости от нозологии пациента"
   ]
  },
  {
   "cell_type": "markdown",
   "metadata": {},
   "source": [
    "Решение:"
   ]
  },
  {
   "cell_type": "markdown",
   "metadata": {},
   "source": [
    "В данном случае необходимо определить влияние одного качественного показателя (заболевание) на количественный показатель (уровень ПКТ). Для решения данный задачи оптимально применить однофакторный дисперсионный анализ."
   ]
  },
  {
   "cell_type": "code",
   "execution_count": 6,
   "metadata": {},
   "outputs": [],
   "source": [
    "import numpy as np"
   ]
  },
  {
   "cell_type": "markdown",
   "metadata": {},
   "source": [
    "Найдем средние значения уровня ПКТ для кажной группы"
   ]
  },
  {
   "cell_type": "markdown",
   "metadata": {},
   "source": [
    "Пневмония"
   ]
  },
  {
   "cell_type": "code",
   "execution_count": 8,
   "metadata": {},
   "outputs": [
    {
     "name": "stdout",
     "output_type": "stream",
     "text": [
      "У пациентов с пневмонией (всего 8 наблюдений) средний уровень ПКТ составляет 2.29 нг/мл\n"
     ]
    }
   ],
   "source": [
    "y1 = np.array([2.2, 1.4, 2.1, 2.8, 3.1, 1.7, 1.8, 3.2])\n",
    "n1 = len(y1)\n",
    "y1_mean = y1.mean()\n",
    "print(f\"У пациентов с пневмонией (всего {n1} наблюдений) средний уровень ПКТ составляет {round(y1_mean, 2)} нг/мл\")"
   ]
  },
  {
   "cell_type": "markdown",
   "metadata": {},
   "source": [
    "Перитонит"
   ]
  },
  {
   "cell_type": "code",
   "execution_count": 9,
   "metadata": {},
   "outputs": [
    {
     "name": "stdout",
     "output_type": "stream",
     "text": [
      "У пациентов с перитонитом (всего 7 наблюдений) средний уровень ПКТ составляет 3.1 нг/мл\n"
     ]
    }
   ],
   "source": [
    "y2 = np.array([3.2, 3.1, 4.1, 4.5, 2.8, 1.7, 2.3])\n",
    "n2 = len(y2)\n",
    "y2_mean = y2.mean()\n",
    "print(f\"У пациентов с перитонитом (всего {n2} наблюдений) средний уровень ПКТ составляет {round(y2_mean, 2)} нг/мл\")"
   ]
  },
  {
   "cell_type": "markdown",
   "metadata": {},
   "source": [
    "Сепсис"
   ]
  },
  {
   "cell_type": "code",
   "execution_count": 10,
   "metadata": {},
   "outputs": [
    {
     "name": "stdout",
     "output_type": "stream",
     "text": [
      "У пациентов с сепсисом (всего 8 наблюдений) средний уровень ПКТ составляет 12.27 нг/мл\n"
     ]
    }
   ],
   "source": [
    "y3 = np.array([6.2, 7.1, 14.2, 21.5, 2.1, 1.7, 22.4, 23.0])\n",
    "n3 = len(y3)\n",
    "y3_mean = y3.mean()\n",
    "print(f\"У пациентов с сепсисом (всего {n3} наблюдений) средний уровень ПКТ составляет {round(y3_mean, 2)} нг/мл\")"
   ]
  },
  {
   "cell_type": "markdown",
   "metadata": {},
   "source": [
    "Определим, имеются ли статистически достоверные различия в средних значения прокальцитонина между группами."
   ]
  },
  {
   "cell_type": "markdown",
   "metadata": {},
   "source": [
    "Всего 3 группы"
   ]
  },
  {
   "cell_type": "code",
   "execution_count": 11,
   "metadata": {},
   "outputs": [],
   "source": [
    "k = 3"
   ]
  },
  {
   "cell_type": "markdown",
   "metadata": {},
   "source": [
    "Общее количество пациентов n"
   ]
  },
  {
   "cell_type": "code",
   "execution_count": 12,
   "metadata": {},
   "outputs": [],
   "source": [
    "n = n1 + n2 + n3"
   ]
  },
  {
   "cell_type": "markdown",
   "metadata": {},
   "source": [
    "Соберем все значения в один массив"
   ]
  },
  {
   "cell_type": "code",
   "execution_count": 13,
   "metadata": {},
   "outputs": [],
   "source": [
    "y_all = np.concatenate([y1, y2, y3])"
   ]
  },
  {
   "cell_type": "markdown",
   "metadata": {},
   "source": [
    "Найдем среднее значение ПКТ среди всех пациентов."
   ]
  },
  {
   "cell_type": "code",
   "execution_count": 14,
   "metadata": {},
   "outputs": [],
   "source": [
    "y_mean = np.mean(y_all)"
   ]
  },
  {
   "cell_type": "markdown",
   "metadata": {},
   "source": [
    "Найдем сумму квадратов отклонений от общего среднего S2"
   ]
  },
  {
   "cell_type": "code",
   "execution_count": 15,
   "metadata": {},
   "outputs": [],
   "source": [
    "s2 = np.sum((y_all - y_mean)**2)"
   ]
  },
  {
   "cell_type": "markdown",
   "metadata": {},
   "source": [
    "Найдем сумму квадратов отклонений средних групповых значений от общего среднего s2_f"
   ]
  },
  {
   "cell_type": "code",
   "execution_count": 17,
   "metadata": {},
   "outputs": [],
   "source": [
    "s2_f = ((y1_mean - y_mean)**2) * n1 + ((y2_mean - y_mean)**2) * n2 + ((y3_mean - y_mean)**2) * n3"
   ]
  },
  {
   "cell_type": "markdown",
   "metadata": {},
   "source": [
    "Вычислим остаточную сумму квадратов отклонений s2_residual"
   ]
  },
  {
   "cell_type": "code",
   "execution_count": 18,
   "metadata": {},
   "outputs": [],
   "source": [
    "s2_residual = s2 - s2_f"
   ]
  },
  {
   "cell_type": "markdown",
   "metadata": {},
   "source": [
    "Найдем общую дисперсия"
   ]
  },
  {
   "cell_type": "code",
   "execution_count": 19,
   "metadata": {},
   "outputs": [],
   "source": [
    "sigma2_general = s2 / (n - 1)"
   ]
  },
  {
   "cell_type": "markdown",
   "metadata": {},
   "source": [
    "Найдем факторную дисперсию"
   ]
  },
  {
   "cell_type": "code",
   "execution_count": 20,
   "metadata": {},
   "outputs": [],
   "source": [
    "sigma2_f = s2_f / (k - 1)"
   ]
  },
  {
   "cell_type": "markdown",
   "metadata": {},
   "source": [
    "Найдме остаточную дисперсию"
   ]
  },
  {
   "cell_type": "code",
   "execution_count": 21,
   "metadata": {},
   "outputs": [],
   "source": [
    "sigma2_residual = s2_residual / (n - k)"
   ]
  },
  {
   "cell_type": "markdown",
   "metadata": {},
   "source": [
    "Вычислим F_h"
   ]
  },
  {
   "cell_type": "code",
   "execution_count": 22,
   "metadata": {},
   "outputs": [
    {
     "data": {
      "text/plain": [
       "8.14734367095837"
      ]
     },
     "execution_count": 22,
     "metadata": {},
     "output_type": "execute_result"
    }
   ],
   "source": [
    "f_h = sigma2_f / sigma2_residual\n",
    "f_h"
   ]
  },
  {
   "cell_type": "markdown",
   "metadata": {},
   "source": [
    "Найдем значение F_table в таблице Фишера-Снедекора для a = 0.05, при этом:"
   ]
  },
  {
   "cell_type": "code",
   "execution_count": 23,
   "metadata": {},
   "outputs": [
    {
     "data": {
      "text/plain": [
       "(2, 20)"
      ]
     },
     "execution_count": 23,
     "metadata": {},
     "output_type": "execute_result"
    }
   ],
   "source": [
    "df_out = k - 1\n",
    "df_inner = n - k\n",
    "df_out, df_inner"
   ]
  },
  {
   "cell_type": "markdown",
   "metadata": {},
   "source": [
    "F_table = 3.49. Т.к. для данных групп F_h > F_table, то различия в уровне ПКТ статистически значимые"
   ]
  },
  {
   "cell_type": "markdown",
   "metadata": {},
   "source": [
    "Вычислим эмпирическое корреляционное отношение eta2"
   ]
  },
  {
   "cell_type": "code",
   "execution_count": 25,
   "metadata": {},
   "outputs": [
    {
     "data": {
      "text/plain": [
       "0.4489551649367152"
      ]
     },
     "execution_count": 25,
     "metadata": {},
     "output_type": "execute_result"
    }
   ],
   "source": [
    "eta2 = s2_f / s2\n",
    "eta2"
   ]
  },
  {
   "cell_type": "markdown",
   "metadata": {},
   "source": [
    "### Вывод"
   ]
  },
  {
   "cell_type": "markdown",
   "metadata": {},
   "source": [
    "Имеются статистически достовернные различия в уровне ПКТ у пациентов с различными нозологическими формами. При этом, значение эмпирического корреляционного отношения больше 0.3. Таким образом, различия в росте между группами статистически значимые."
   ]
  }
 ],
 "metadata": {
  "kernelspec": {
   "display_name": "Python 3",
   "language": "python",
   "name": "python3"
  },
  "language_info": {
   "codemirror_mode": {
    "name": "ipython",
    "version": 3
   },
   "file_extension": ".py",
   "mimetype": "text/x-python",
   "name": "python",
   "nbconvert_exporter": "python",
   "pygments_lexer": "ipython3",
   "version": "3.8.3"
  }
 },
 "nbformat": 4,
 "nbformat_minor": 4
}
